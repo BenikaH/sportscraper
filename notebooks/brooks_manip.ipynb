{
 "cells": [
  {
   "cell_type": "code",
   "execution_count": 9,
   "metadata": {},
   "outputs": [],
   "source": [
    "import click\n",
    "from pandas import *\n",
    "import os"
   ]
  },
  {
   "cell_type": "code",
   "execution_count": 19,
   "metadata": {},
   "outputs": [],
   "source": [
    "brooks_data = read_csv(\"../all-seasons.csv\")"
   ]
  },
  {
   "cell_type": "code",
   "execution_count": 18,
   "metadata": {},
   "outputs": [
    {
     "name": "stdout",
     "output_type": "stream",
     "text": [
      "/Users/michaellucas/PycharmProjects/sportscraper/notebooks\n"
     ]
    }
   ],
   "source": [
    "out = os.getcwd()\n",
    "print(out)"
   ]
  },
  {
   "cell_type": "code",
   "execution_count": 30,
   "metadata": {},
   "outputs": [
    {
     "data": {
      "text/plain": [
       "date_stamp            object\n",
       "park_sv_id            object\n",
       "play_guid             object\n",
       "ab_total               int64\n",
       "ab_count               int64\n",
       "pitcher_id             int64\n",
       "batter_id              int64\n",
       "ab_id                  int64\n",
       "des                   object\n",
       "type                  object\n",
       "id                     int64\n",
       "sz_top               float64\n",
       "sz_bot               float64\n",
       "pfx_xdatafile        float64\n",
       "pfx_zdatafile        float64\n",
       "mlbam_pitch_name      object\n",
       "zone_location        float64\n",
       "pitch_con            float64\n",
       "stand                 object\n",
       "strikes                int64\n",
       "balls                  int64\n",
       "p_throws              object\n",
       "gid                   object\n",
       "pdes                  object\n",
       "spin                 float64\n",
       "norm_ht              float64\n",
       "inning                 int64\n",
       "pitcher_team          object\n",
       "tstart               float64\n",
       "vystart              float64\n",
       "ftime                float64\n",
       "pfx_x                float64\n",
       "pfx_z                float64\n",
       "uncorrected_pfx_x    float64\n",
       "uncorrected_pfx_z    float64\n",
       "x0                   float64\n",
       "y0                     int64\n",
       "z0                   float64\n",
       "vx0                  float64\n",
       "vy0                  float64\n",
       "vz0                  float64\n",
       "ax                   float64\n",
       "ay                   float64\n",
       "az                   float64\n",
       "start_speed          float64\n",
       "px                   float64\n",
       "pz                   float64\n",
       "pxold                float64\n",
       "pzold                float64\n",
       "sb                     int64\n",
       "dtype: object"
      ]
     },
     "execution_count": 30,
     "metadata": {},
     "output_type": "execute_result"
    }
   ],
   "source": [
    "brooks_data.dtypes"
   ]
  },
  {
   "cell_type": "code",
   "execution_count": 28,
   "metadata": {},
   "outputs": [
    {
     "name": "stdout",
     "output_type": "stream",
     "text": [
      "Column(\"inning\", int64, nullable=True),\n",
      "Column(\"y0\", int64, nullable=True),\n",
      "Column(\"pitcher_team\", object, nullable=True),\n",
      "Column(\"start_speed\", float64, nullable=True),\n",
      "Column(\"play_guid\", object, nullable=True),\n",
      "Column(\"pfx_zdatafile\", float64, nullable=True),\n",
      "Column(\"z0\", float64, nullable=True),\n",
      "Column(\"ab_id\", int64, nullable=True),\n",
      "Column(\"pitcher_id\", int64, nullable=True),\n",
      "Column(\"ay\", float64, nullable=True),\n",
      "Column(\"zone_location\", float64, nullable=True),\n",
      "Column(\"pxold\", float64, nullable=True),\n",
      "Column(\"batter_id\", int64, nullable=True),\n",
      "Column(\"p_throws\", object, nullable=True),\n",
      "Column(\"id\", int64, nullable=True),\n",
      "Column(\"park_sv_id\", object, nullable=True),\n",
      "Column(\"vy0\", float64, nullable=True),\n",
      "Column(\"az\", float64, nullable=True),\n",
      "Column(\"ab_count\", int64, nullable=True),\n",
      "Column(\"pz\", float64, nullable=True),\n",
      "Column(\"spin\", float64, nullable=True),\n",
      "Column(\"px\", float64, nullable=True),\n",
      "Column(\"pfx_xdatafile\", float64, nullable=True),\n",
      "Column(\"date_stamp\", object, nullable=True),\n",
      "Column(\"gid\", object, nullable=True),\n",
      "Column(\"ftime\", float64, nullable=True),\n",
      "Column(\"tstart\", float64, nullable=True),\n",
      "Column(\"uncorrected_pfx_x\", float64, nullable=True),\n",
      "Column(\"uncorrected_pfx_z\", float64, nullable=True),\n",
      "Column(\"type\", object, nullable=True),\n",
      "Column(\"sz_bot\", float64, nullable=True),\n",
      "Column(\"norm_ht\", float64, nullable=True),\n",
      "Column(\"pfx_z\", float64, nullable=True),\n",
      "Column(\"strikes\", int64, nullable=True),\n",
      "Column(\"mlbam_pitch_name\", object, nullable=True),\n",
      "Column(\"pitch_con\", float64, nullable=True),\n",
      "Column(\"pfx_x\", float64, nullable=True),\n",
      "Column(\"vystart\", float64, nullable=True),\n",
      "Column(\"ab_total\", int64, nullable=True),\n",
      "Column(\"pdes\", object, nullable=True),\n",
      "Column(\"balls\", int64, nullable=True),\n",
      "Column(\"des\", object, nullable=True),\n",
      "Column(\"x0\", float64, nullable=True),\n",
      "Column(\"ax\", float64, nullable=True),\n",
      "Column(\"sz_top\", float64, nullable=True),\n",
      "Column(\"stand\", object, nullable=True),\n",
      "Column(\"sb\", int64, nullable=True),\n",
      "Column(\"vz0\", float64, nullable=True),\n",
      "Column(\"pzold\", float64, nullable=True),\n",
      "Column(\"vx0\", float64, nullable=True),\n"
     ]
    }
   ],
   "source": [
    "for key, value in brooks_data.dtypes.to_dict().iteritems():\n",
    "    print str('Column(\"' + str(key) + '\", ' + str(value) + ', nullable=True),')"
   ]
  },
  {
   "cell_type": "code",
   "execution_count": null,
   "metadata": {},
   "outputs": [],
   "source": []
  }
 ],
 "metadata": {
  "kernelspec": {
   "display_name": "Python 2",
   "language": "python",
   "name": "python2"
  },
  "language_info": {
   "codemirror_mode": {
    "name": "ipython",
    "version": 2
   },
   "file_extension": ".py",
   "mimetype": "text/x-python",
   "name": "python",
   "nbconvert_exporter": "python",
   "pygments_lexer": "ipython2",
   "version": "2.7.13"
  }
 },
 "nbformat": 4,
 "nbformat_minor": 2
}
